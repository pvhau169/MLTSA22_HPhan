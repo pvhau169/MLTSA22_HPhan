{
  "nbformat": 4,
  "nbformat_minor": 0,
  "metadata": {
    "kernelspec": {
      "display_name": "Python 3",
      "language": "python",
      "name": "python3"
    },
    "language_info": {
      "codemirror_mode": {
        "name": "ipython",
        "version": 3
      },
      "file_extension": ".py",
      "mimetype": "text/x-python",
      "name": "python",
      "nbconvert_exporter": "python",
      "pygments_lexer": "ipython3",
      "version": "3.7.3"
    },
    "latex_envs": {
      "LaTeX_envs_menu_present": true,
      "autoclose": false,
      "autocomplete": true,
      "bibliofile": "biblio.bib",
      "cite_by": "apalike",
      "current_citInitial": 1,
      "eqLabelWithNumbers": true,
      "eqNumInitial": 1,
      "hotkeys": {
        "equation": "Ctrl-E",
        "itemize": "Ctrl-I"
      },
      "labels_anchors": false,
      "latex_user_defs": false,
      "report_style_numbering": false,
      "user_envs_cfg": false
    },
    "nbTranslate": {
      "displayLangs": [
        "*"
      ],
      "hotkey": "alt-t",
      "langInMainMenu": true,
      "sourceLang": "en",
      "targetLang": "fr",
      "useGoogleTranslate": true
    },
    "toc": {
      "base_numbering": 1,
      "nav_menu": {},
      "number_sections": true,
      "sideBar": true,
      "skip_h1_title": false,
      "title_cell": "Table of Contents",
      "title_sidebar": "Contents",
      "toc_cell": false,
      "toc_position": {},
      "toc_section_display": true,
      "toc_window_display": false
    },
    "colab": {
      "name": "MLTSA2022 GP homework",
      "provenance": [],
      "collapsed_sections": [],
      "include_colab_link": true
    },
    "widgets": {
      "application/vnd.jupyter.widget-state+json": {
        "8e25a3f1de65462b95eb945711fe4938": {
          "model_module": "@jupyter-widgets/controls",
          "model_name": "HBoxModel",
          "model_module_version": "1.5.0",
          "state": {
            "_dom_classes": [],
            "_model_module": "@jupyter-widgets/controls",
            "_model_module_version": "1.5.0",
            "_model_name": "HBoxModel",
            "_view_count": null,
            "_view_module": "@jupyter-widgets/controls",
            "_view_module_version": "1.5.0",
            "_view_name": "HBoxView",
            "box_style": "",
            "children": [
              "IPY_MODEL_384e49083f3a4e548af429571bc59c4d",
              "IPY_MODEL_1fa7fde4913041a5afbc777369315a2f",
              "IPY_MODEL_d00b6607bd674c35b83bc27d1bc1f448"
            ],
            "layout": "IPY_MODEL_36d19bbe5d1343b698a1bf5224a583f2"
          }
        },
        "384e49083f3a4e548af429571bc59c4d": {
          "model_module": "@jupyter-widgets/controls",
          "model_name": "HTMLModel",
          "model_module_version": "1.5.0",
          "state": {
            "_dom_classes": [],
            "_model_module": "@jupyter-widgets/controls",
            "_model_module_version": "1.5.0",
            "_model_name": "HTMLModel",
            "_view_count": null,
            "_view_module": "@jupyter-widgets/controls",
            "_view_module_version": "1.5.0",
            "_view_name": "HTMLView",
            "description": "",
            "description_tooltip": null,
            "layout": "IPY_MODEL_3e262f0e85cc437786bd2ae390ff665d",
            "placeholder": "​",
            "style": "IPY_MODEL_94c79dcd54e04bd780273a8f9f23d9d3",
            "value": "100%"
          }
        },
        "1fa7fde4913041a5afbc777369315a2f": {
          "model_module": "@jupyter-widgets/controls",
          "model_name": "FloatProgressModel",
          "model_module_version": "1.5.0",
          "state": {
            "_dom_classes": [],
            "_model_module": "@jupyter-widgets/controls",
            "_model_module_version": "1.5.0",
            "_model_name": "FloatProgressModel",
            "_view_count": null,
            "_view_module": "@jupyter-widgets/controls",
            "_view_module_version": "1.5.0",
            "_view_name": "ProgressView",
            "bar_style": "success",
            "description": "",
            "description_tooltip": null,
            "layout": "IPY_MODEL_8585161144b54d3b827403d2828df97b",
            "max": 47088,
            "min": 0,
            "orientation": "horizontal",
            "style": "IPY_MODEL_bbd2223d08e944f1b66963aea44b590c",
            "value": 47088
          }
        },
        "d00b6607bd674c35b83bc27d1bc1f448": {
          "model_module": "@jupyter-widgets/controls",
          "model_name": "HTMLModel",
          "model_module_version": "1.5.0",
          "state": {
            "_dom_classes": [],
            "_model_module": "@jupyter-widgets/controls",
            "_model_module_version": "1.5.0",
            "_model_name": "HTMLModel",
            "_view_count": null,
            "_view_module": "@jupyter-widgets/controls",
            "_view_module_version": "1.5.0",
            "_view_name": "HTMLView",
            "description": "",
            "description_tooltip": null,
            "layout": "IPY_MODEL_ead103e89e2b42ba999bdaff805acc2a",
            "placeholder": "​",
            "style": "IPY_MODEL_3f0857f5fb7a4f56aa4827134bb55aa2",
            "value": " 47088/47088 [00:21&lt;00:00, 2943.48it/s]"
          }
        },
        "36d19bbe5d1343b698a1bf5224a583f2": {
          "model_module": "@jupyter-widgets/base",
          "model_name": "LayoutModel",
          "model_module_version": "1.2.0",
          "state": {
            "_model_module": "@jupyter-widgets/base",
            "_model_module_version": "1.2.0",
            "_model_name": "LayoutModel",
            "_view_count": null,
            "_view_module": "@jupyter-widgets/base",
            "_view_module_version": "1.2.0",
            "_view_name": "LayoutView",
            "align_content": null,
            "align_items": null,
            "align_self": null,
            "border": null,
            "bottom": null,
            "display": null,
            "flex": null,
            "flex_flow": null,
            "grid_area": null,
            "grid_auto_columns": null,
            "grid_auto_flow": null,
            "grid_auto_rows": null,
            "grid_column": null,
            "grid_gap": null,
            "grid_row": null,
            "grid_template_areas": null,
            "grid_template_columns": null,
            "grid_template_rows": null,
            "height": null,
            "justify_content": null,
            "justify_items": null,
            "left": null,
            "margin": null,
            "max_height": null,
            "max_width": null,
            "min_height": null,
            "min_width": null,
            "object_fit": null,
            "object_position": null,
            "order": null,
            "overflow": null,
            "overflow_x": null,
            "overflow_y": null,
            "padding": null,
            "right": null,
            "top": null,
            "visibility": null,
            "width": null
          }
        },
        "3e262f0e85cc437786bd2ae390ff665d": {
          "model_module": "@jupyter-widgets/base",
          "model_name": "LayoutModel",
          "model_module_version": "1.2.0",
          "state": {
            "_model_module": "@jupyter-widgets/base",
            "_model_module_version": "1.2.0",
            "_model_name": "LayoutModel",
            "_view_count": null,
            "_view_module": "@jupyter-widgets/base",
            "_view_module_version": "1.2.0",
            "_view_name": "LayoutView",
            "align_content": null,
            "align_items": null,
            "align_self": null,
            "border": null,
            "bottom": null,
            "display": null,
            "flex": null,
            "flex_flow": null,
            "grid_area": null,
            "grid_auto_columns": null,
            "grid_auto_flow": null,
            "grid_auto_rows": null,
            "grid_column": null,
            "grid_gap": null,
            "grid_row": null,
            "grid_template_areas": null,
            "grid_template_columns": null,
            "grid_template_rows": null,
            "height": null,
            "justify_content": null,
            "justify_items": null,
            "left": null,
            "margin": null,
            "max_height": null,
            "max_width": null,
            "min_height": null,
            "min_width": null,
            "object_fit": null,
            "object_position": null,
            "order": null,
            "overflow": null,
            "overflow_x": null,
            "overflow_y": null,
            "padding": null,
            "right": null,
            "top": null,
            "visibility": null,
            "width": null
          }
        },
        "94c79dcd54e04bd780273a8f9f23d9d3": {
          "model_module": "@jupyter-widgets/controls",
          "model_name": "DescriptionStyleModel",
          "model_module_version": "1.5.0",
          "state": {
            "_model_module": "@jupyter-widgets/controls",
            "_model_module_version": "1.5.0",
            "_model_name": "DescriptionStyleModel",
            "_view_count": null,
            "_view_module": "@jupyter-widgets/base",
            "_view_module_version": "1.2.0",
            "_view_name": "StyleView",
            "description_width": ""
          }
        },
        "8585161144b54d3b827403d2828df97b": {
          "model_module": "@jupyter-widgets/base",
          "model_name": "LayoutModel",
          "model_module_version": "1.2.0",
          "state": {
            "_model_module": "@jupyter-widgets/base",
            "_model_module_version": "1.2.0",
            "_model_name": "LayoutModel",
            "_view_count": null,
            "_view_module": "@jupyter-widgets/base",
            "_view_module_version": "1.2.0",
            "_view_name": "LayoutView",
            "align_content": null,
            "align_items": null,
            "align_self": null,
            "border": null,
            "bottom": null,
            "display": null,
            "flex": null,
            "flex_flow": null,
            "grid_area": null,
            "grid_auto_columns": null,
            "grid_auto_flow": null,
            "grid_auto_rows": null,
            "grid_column": null,
            "grid_gap": null,
            "grid_row": null,
            "grid_template_areas": null,
            "grid_template_columns": null,
            "grid_template_rows": null,
            "height": null,
            "justify_content": null,
            "justify_items": null,
            "left": null,
            "margin": null,
            "max_height": null,
            "max_width": null,
            "min_height": null,
            "min_width": null,
            "object_fit": null,
            "object_position": null,
            "order": null,
            "overflow": null,
            "overflow_x": null,
            "overflow_y": null,
            "padding": null,
            "right": null,
            "top": null,
            "visibility": null,
            "width": null
          }
        },
        "bbd2223d08e944f1b66963aea44b590c": {
          "model_module": "@jupyter-widgets/controls",
          "model_name": "ProgressStyleModel",
          "model_module_version": "1.5.0",
          "state": {
            "_model_module": "@jupyter-widgets/controls",
            "_model_module_version": "1.5.0",
            "_model_name": "ProgressStyleModel",
            "_view_count": null,
            "_view_module": "@jupyter-widgets/base",
            "_view_module_version": "1.2.0",
            "_view_name": "StyleView",
            "bar_color": null,
            "description_width": ""
          }
        },
        "ead103e89e2b42ba999bdaff805acc2a": {
          "model_module": "@jupyter-widgets/base",
          "model_name": "LayoutModel",
          "model_module_version": "1.2.0",
          "state": {
            "_model_module": "@jupyter-widgets/base",
            "_model_module_version": "1.2.0",
            "_model_name": "LayoutModel",
            "_view_count": null,
            "_view_module": "@jupyter-widgets/base",
            "_view_module_version": "1.2.0",
            "_view_name": "LayoutView",
            "align_content": null,
            "align_items": null,
            "align_self": null,
            "border": null,
            "bottom": null,
            "display": null,
            "flex": null,
            "flex_flow": null,
            "grid_area": null,
            "grid_auto_columns": null,
            "grid_auto_flow": null,
            "grid_auto_rows": null,
            "grid_column": null,
            "grid_gap": null,
            "grid_row": null,
            "grid_template_areas": null,
            "grid_template_columns": null,
            "grid_template_rows": null,
            "height": null,
            "justify_content": null,
            "justify_items": null,
            "left": null,
            "margin": null,
            "max_height": null,
            "max_width": null,
            "min_height": null,
            "min_width": null,
            "object_fit": null,
            "object_position": null,
            "order": null,
            "overflow": null,
            "overflow_x": null,
            "overflow_y": null,
            "padding": null,
            "right": null,
            "top": null,
            "visibility": null,
            "width": null
          }
        },
        "3f0857f5fb7a4f56aa4827134bb55aa2": {
          "model_module": "@jupyter-widgets/controls",
          "model_name": "DescriptionStyleModel",
          "model_module_version": "1.5.0",
          "state": {
            "_model_module": "@jupyter-widgets/controls",
            "_model_module_version": "1.5.0",
            "_model_name": "DescriptionStyleModel",
            "_view_count": null,
            "_view_module": "@jupyter-widgets/base",
            "_view_module_version": "1.2.0",
            "_view_name": "StyleView",
            "description_width": ""
          }
        },
        "52536745f9804112b78d1a953af52438": {
          "model_module": "@jupyter-widgets/controls",
          "model_name": "HBoxModel",
          "model_module_version": "1.5.0",
          "state": {
            "_dom_classes": [],
            "_model_module": "@jupyter-widgets/controls",
            "_model_module_version": "1.5.0",
            "_model_name": "HBoxModel",
            "_view_count": null,
            "_view_module": "@jupyter-widgets/controls",
            "_view_module_version": "1.5.0",
            "_view_name": "HBoxView",
            "box_style": "",
            "children": [
              "IPY_MODEL_c6891213370a4a3e9e4d609226b4840b",
              "IPY_MODEL_8faac7b9bec84e0e92006b31d8cc1916",
              "IPY_MODEL_4decb7fabd5e40548b4a1bad2204bd07"
            ],
            "layout": "IPY_MODEL_b191dd4e4dcd4b84b13a5c7aaadd5a93"
          }
        },
        "c6891213370a4a3e9e4d609226b4840b": {
          "model_module": "@jupyter-widgets/controls",
          "model_name": "HTMLModel",
          "model_module_version": "1.5.0",
          "state": {
            "_dom_classes": [],
            "_model_module": "@jupyter-widgets/controls",
            "_model_module_version": "1.5.0",
            "_model_name": "HTMLModel",
            "_view_count": null,
            "_view_module": "@jupyter-widgets/controls",
            "_view_module_version": "1.5.0",
            "_view_name": "HTMLView",
            "description": "",
            "description_tooltip": null,
            "layout": "IPY_MODEL_d4a280dda7dc402d88d885b985d3b5df",
            "placeholder": "​",
            "style": "IPY_MODEL_9febb7189f194fb0a1888b5095196fe1",
            "value": "100%"
          }
        },
        "8faac7b9bec84e0e92006b31d8cc1916": {
          "model_module": "@jupyter-widgets/controls",
          "model_name": "FloatProgressModel",
          "model_module_version": "1.5.0",
          "state": {
            "_dom_classes": [],
            "_model_module": "@jupyter-widgets/controls",
            "_model_module_version": "1.5.0",
            "_model_name": "FloatProgressModel",
            "_view_count": null,
            "_view_module": "@jupyter-widgets/controls",
            "_view_module_version": "1.5.0",
            "_view_name": "ProgressView",
            "bar_style": "success",
            "description": "",
            "description_tooltip": null,
            "layout": "IPY_MODEL_82d70176c42a4408a514196ed15fac8e",
            "max": 47088,
            "min": 0,
            "orientation": "horizontal",
            "style": "IPY_MODEL_36bac785903e4c7bbb96b1b824bc95ab",
            "value": 47088
          }
        },
        "4decb7fabd5e40548b4a1bad2204bd07": {
          "model_module": "@jupyter-widgets/controls",
          "model_name": "HTMLModel",
          "model_module_version": "1.5.0",
          "state": {
            "_dom_classes": [],
            "_model_module": "@jupyter-widgets/controls",
            "_model_module_version": "1.5.0",
            "_model_name": "HTMLModel",
            "_view_count": null,
            "_view_module": "@jupyter-widgets/controls",
            "_view_module_version": "1.5.0",
            "_view_name": "HTMLView",
            "description": "",
            "description_tooltip": null,
            "layout": "IPY_MODEL_e674ca8294a34da69a1e1ad23715717b",
            "placeholder": "​",
            "style": "IPY_MODEL_5e74438191214c38b15bbd34d3cca355",
            "value": " 47088/47088 [00:00&lt;00:00, 281781.82it/s]"
          }
        },
        "b191dd4e4dcd4b84b13a5c7aaadd5a93": {
          "model_module": "@jupyter-widgets/base",
          "model_name": "LayoutModel",
          "model_module_version": "1.2.0",
          "state": {
            "_model_module": "@jupyter-widgets/base",
            "_model_module_version": "1.2.0",
            "_model_name": "LayoutModel",
            "_view_count": null,
            "_view_module": "@jupyter-widgets/base",
            "_view_module_version": "1.2.0",
            "_view_name": "LayoutView",
            "align_content": null,
            "align_items": null,
            "align_self": null,
            "border": null,
            "bottom": null,
            "display": null,
            "flex": null,
            "flex_flow": null,
            "grid_area": null,
            "grid_auto_columns": null,
            "grid_auto_flow": null,
            "grid_auto_rows": null,
            "grid_column": null,
            "grid_gap": null,
            "grid_row": null,
            "grid_template_areas": null,
            "grid_template_columns": null,
            "grid_template_rows": null,
            "height": null,
            "justify_content": null,
            "justify_items": null,
            "left": null,
            "margin": null,
            "max_height": null,
            "max_width": null,
            "min_height": null,
            "min_width": null,
            "object_fit": null,
            "object_position": null,
            "order": null,
            "overflow": null,
            "overflow_x": null,
            "overflow_y": null,
            "padding": null,
            "right": null,
            "top": null,
            "visibility": null,
            "width": null
          }
        },
        "d4a280dda7dc402d88d885b985d3b5df": {
          "model_module": "@jupyter-widgets/base",
          "model_name": "LayoutModel",
          "model_module_version": "1.2.0",
          "state": {
            "_model_module": "@jupyter-widgets/base",
            "_model_module_version": "1.2.0",
            "_model_name": "LayoutModel",
            "_view_count": null,
            "_view_module": "@jupyter-widgets/base",
            "_view_module_version": "1.2.0",
            "_view_name": "LayoutView",
            "align_content": null,
            "align_items": null,
            "align_self": null,
            "border": null,
            "bottom": null,
            "display": null,
            "flex": null,
            "flex_flow": null,
            "grid_area": null,
            "grid_auto_columns": null,
            "grid_auto_flow": null,
            "grid_auto_rows": null,
            "grid_column": null,
            "grid_gap": null,
            "grid_row": null,
            "grid_template_areas": null,
            "grid_template_columns": null,
            "grid_template_rows": null,
            "height": null,
            "justify_content": null,
            "justify_items": null,
            "left": null,
            "margin": null,
            "max_height": null,
            "max_width": null,
            "min_height": null,
            "min_width": null,
            "object_fit": null,
            "object_position": null,
            "order": null,
            "overflow": null,
            "overflow_x": null,
            "overflow_y": null,
            "padding": null,
            "right": null,
            "top": null,
            "visibility": null,
            "width": null
          }
        },
        "9febb7189f194fb0a1888b5095196fe1": {
          "model_module": "@jupyter-widgets/controls",
          "model_name": "DescriptionStyleModel",
          "model_module_version": "1.5.0",
          "state": {
            "_model_module": "@jupyter-widgets/controls",
            "_model_module_version": "1.5.0",
            "_model_name": "DescriptionStyleModel",
            "_view_count": null,
            "_view_module": "@jupyter-widgets/base",
            "_view_module_version": "1.2.0",
            "_view_name": "StyleView",
            "description_width": ""
          }
        },
        "82d70176c42a4408a514196ed15fac8e": {
          "model_module": "@jupyter-widgets/base",
          "model_name": "LayoutModel",
          "model_module_version": "1.2.0",
          "state": {
            "_model_module": "@jupyter-widgets/base",
            "_model_module_version": "1.2.0",
            "_model_name": "LayoutModel",
            "_view_count": null,
            "_view_module": "@jupyter-widgets/base",
            "_view_module_version": "1.2.0",
            "_view_name": "LayoutView",
            "align_content": null,
            "align_items": null,
            "align_self": null,
            "border": null,
            "bottom": null,
            "display": null,
            "flex": null,
            "flex_flow": null,
            "grid_area": null,
            "grid_auto_columns": null,
            "grid_auto_flow": null,
            "grid_auto_rows": null,
            "grid_column": null,
            "grid_gap": null,
            "grid_row": null,
            "grid_template_areas": null,
            "grid_template_columns": null,
            "grid_template_rows": null,
            "height": null,
            "justify_content": null,
            "justify_items": null,
            "left": null,
            "margin": null,
            "max_height": null,
            "max_width": null,
            "min_height": null,
            "min_width": null,
            "object_fit": null,
            "object_position": null,
            "order": null,
            "overflow": null,
            "overflow_x": null,
            "overflow_y": null,
            "padding": null,
            "right": null,
            "top": null,
            "visibility": null,
            "width": null
          }
        },
        "36bac785903e4c7bbb96b1b824bc95ab": {
          "model_module": "@jupyter-widgets/controls",
          "model_name": "ProgressStyleModel",
          "model_module_version": "1.5.0",
          "state": {
            "_model_module": "@jupyter-widgets/controls",
            "_model_module_version": "1.5.0",
            "_model_name": "ProgressStyleModel",
            "_view_count": null,
            "_view_module": "@jupyter-widgets/base",
            "_view_module_version": "1.2.0",
            "_view_name": "StyleView",
            "bar_color": null,
            "description_width": ""
          }
        },
        "e674ca8294a34da69a1e1ad23715717b": {
          "model_module": "@jupyter-widgets/base",
          "model_name": "LayoutModel",
          "model_module_version": "1.2.0",
          "state": {
            "_model_module": "@jupyter-widgets/base",
            "_model_module_version": "1.2.0",
            "_model_name": "LayoutModel",
            "_view_count": null,
            "_view_module": "@jupyter-widgets/base",
            "_view_module_version": "1.2.0",
            "_view_name": "LayoutView",
            "align_content": null,
            "align_items": null,
            "align_self": null,
            "border": null,
            "bottom": null,
            "display": null,
            "flex": null,
            "flex_flow": null,
            "grid_area": null,
            "grid_auto_columns": null,
            "grid_auto_flow": null,
            "grid_auto_rows": null,
            "grid_column": null,
            "grid_gap": null,
            "grid_row": null,
            "grid_template_areas": null,
            "grid_template_columns": null,
            "grid_template_rows": null,
            "height": null,
            "justify_content": null,
            "justify_items": null,
            "left": null,
            "margin": null,
            "max_height": null,
            "max_width": null,
            "min_height": null,
            "min_width": null,
            "object_fit": null,
            "object_position": null,
            "order": null,
            "overflow": null,
            "overflow_x": null,
            "overflow_y": null,
            "padding": null,
            "right": null,
            "top": null,
            "visibility": null,
            "width": null
          }
        },
        "5e74438191214c38b15bbd34d3cca355": {
          "model_module": "@jupyter-widgets/controls",
          "model_name": "DescriptionStyleModel",
          "model_module_version": "1.5.0",
          "state": {
            "_model_module": "@jupyter-widgets/controls",
            "_model_module_version": "1.5.0",
            "_model_name": "DescriptionStyleModel",
            "_view_count": null,
            "_view_module": "@jupyter-widgets/base",
            "_view_module_version": "1.2.0",
            "_view_name": "StyleView",
            "description_width": ""
          }
        }
      }
    }
  },
  "cells": [
    {
      "cell_type": "markdown",
      "metadata": {
        "id": "view-in-github",
        "colab_type": "text"
      },
      "source": [
        "<a href=\"https://colab.research.google.com/github/pvhau169/MLTSA22_HPhan/blob/main/HW7/MLTSA2022_GP_homework.ipynb\" target=\"_parent\"><img src=\"https://colab.research.google.com/assets/colab-badge.svg\" alt=\"Open In Colab\"/></a>"
      ]
    },
    {
      "cell_type": "markdown",
      "metadata": {
        "id": "eWKE7cXHsHCl"
      },
      "source": [
        "\n",
        "This is an exercise on feature extractoin and Gaussian Processes interpolation of sparse time series."
      ]
    },
    {
      "cell_type": "markdown",
      "metadata": {
        "id": "Zx-fcjEslVYc"
      },
      "source": [
        "## OVERVIEW\n",
        "\n",
        "The PLAsTiCC challend is a Kaggle challange to classify astrophysical objects (e.g. stars, exploding stars, stars with planets transiting, black holes) based on their time variability in light emission in 6 different bands (i.e. wavelength ranges). The sampling (the cadence of the observations) is designed to show what the upcming Rubin Observatory LSST (Legacy Survey of Space and Time) will see when it starts observing (in 2023). \n",
        "\n",
        "You can refer to this notebook https://www.kaggle.com/michaelapers/the-plasticc-astronomy-starter-kit (written by my good friend Gautham Narayan) to get started and ingest and preprocess the PLASTiCC challenge data. If you are not familiar with classes (object oriented syntax) do not worry about it: I do want you to extract the features yourself. So use it as a guideline, but do not just copy and paste.\n",
        "\n",
        "Your task is to extract features, i.e. representations of the time series, and fit the time series with Gaussian Processes. \n",
        "\n"
      ]
    },
    {
      "cell_type": "code",
      "metadata": {
        "ExecuteTime": {
          "end_time": "2020-04-05T15:08:27.530325Z",
          "start_time": "2020-04-05T15:08:26.971473Z"
        },
        "id": "-G6oPTITlVYd",
        "colab": {
          "base_uri": "https://localhost:8080/"
        },
        "outputId": "2c953910-c56c-4046-878a-28de6d09f98f"
      },
      "source": [
        "import pandas as pd\n",
        "import numpy as np\n",
        "import pylab as pl\n",
        "\n",
        "%pylab inline\n"
      ],
      "execution_count": 1,
      "outputs": [
        {
          "output_type": "stream",
          "name": "stdout",
          "text": [
            "Populating the interactive namespace from numpy and matplotlib\n"
          ]
        }
      ]
    },
    {
      "cell_type": "code",
      "source": [
        "from google.colab import drive\n",
        "\n",
        "drive.mount(\"/content/gdrive\")"
      ],
      "metadata": {
        "colab": {
          "base_uri": "https://localhost:8080/"
        },
        "id": "c6FuM42CErk-",
        "outputId": "f93c09e8-9d8d-44ec-c0e2-a6107cbb83f1"
      },
      "execution_count": 2,
      "outputs": [
        {
          "output_type": "stream",
          "name": "stdout",
          "text": [
            "Drive already mounted at /content/gdrive; to attempt to forcibly remount, call drive.mount(\"/content/gdrive\", force_remount=True).\n"
          ]
        }
      ]
    },
    {
      "cell_type": "code",
      "source": [
        "%cd /content/gdrive/MyDrive/UDStuff/MachineLearningForTimeSeries/HW7/\n",
        "import os\n",
        "os.environ['KAGGLE_CONFIG_DIR'] = \"/content/gdrive/MyDrive/UDStuff/MachineLearningForTimeSeries/HW7/\"\n",
        "!chmod 600 kaggle.json"
      ],
      "metadata": {
        "colab": {
          "base_uri": "https://localhost:8080/"
        },
        "id": "OJM0744mEhwf",
        "outputId": "78d11941-a8c7-4c0a-8b87-2a3206d64ebd"
      },
      "execution_count": 3,
      "outputs": [
        {
          "output_type": "stream",
          "name": "stdout",
          "text": [
            "/content/gdrive/MyDrive/UDStuff/MachineLearningForTimeSeries/HW7\n"
          ]
        }
      ]
    },
    {
      "cell_type": "code",
      "source": [
        "!kaggle competitions download -c PLAsTiCC-2018"
      ],
      "metadata": {
        "colab": {
          "base_uri": "https://localhost:8080/"
        },
        "id": "ajdBOSUNFgbU",
        "outputId": "9e44d886-f0e3-45d0-df7d-63014ac51a0e"
      },
      "execution_count": 4,
      "outputs": [
        {
          "output_type": "stream",
          "name": "stdout",
          "text": [
            "PLAsTiCC-2018.zip: Skipping, found more recently modified local copy (use --force to force download)\n"
          ]
        }
      ]
    },
    {
      "cell_type": "code",
      "source": [
        "!unzip PLAsTiCC-2018.zip"
      ],
      "metadata": {
        "colab": {
          "base_uri": "https://localhost:8080/"
        },
        "id": "VMMnMRABG8fy",
        "outputId": "b2ec9051-ee6a-4c8b-8f1a-50aa5fa249ae"
      },
      "execution_count": 5,
      "outputs": [
        {
          "output_type": "stream",
          "name": "stdout",
          "text": [
            "Archive:  PLAsTiCC-2018.zip\n",
            "replace data_note.pdf? [y]es, [n]o, [A]ll, [N]one, [r]ename: "
          ]
        }
      ]
    },
    {
      "cell_type": "code",
      "source": [
        "! kaggle competitions download -c PLAsTiCC-2018/training#.csv"
      ],
      "metadata": {
        "colab": {
          "base_uri": "https://localhost:8080/"
        },
        "id": "6aJShU8SFFny",
        "outputId": "12a2600f-e7a0-4815-9c2f-0df888bfc402"
      },
      "execution_count": 6,
      "outputs": [
        {
          "output_type": "stream",
          "name": "stdout",
          "text": [
            "404 - Not Found\n"
          ]
        }
      ]
    },
    {
      "cell_type": "markdown",
      "metadata": {
        "ExecuteTime": {
          "end_time": "2020-04-05T14:30:57.608296Z",
          "start_time": "2020-04-05T14:30:57.606452Z"
        },
        "id": "w1y1TFCHlVYf"
      },
      "source": [
        "# TASK I :  Data Acquisition\n",
        " You can download the data from kaggle\n",
        " --- https://www.kaggle.com/c/PLAsTiCC-2018\n",
        " or from zenodo\n",
        " --- https://zenodo.org/record/2539456#.XonrIdNKjOQ\n",
        " Choose how to do it but make sure that it is a reproducible way. You will need the **training data and the metadata files** only - you wont need to use the test data\n"
      ]
    },
    {
      "cell_type": "code",
      "metadata": {
        "id": "B3GeSII5fsgF",
        "colab": {
          "base_uri": "https://localhost:8080/"
        },
        "outputId": "139b5824-010d-43ca-a56a-d2ee03045b13"
      },
      "source": [
        "lcvs = pd.read_csv(\"training_set.csv\")\n",
        "lcvs.shape"
      ],
      "execution_count": 7,
      "outputs": [
        {
          "output_type": "execute_result",
          "data": {
            "text/plain": [
              "(1421705, 6)"
            ]
          },
          "metadata": {},
          "execution_count": 7
        }
      ]
    },
    {
      "cell_type": "code",
      "metadata": {
        "colab": {
          "base_uri": "https://localhost:8080/",
          "height": 206
        },
        "id": "HGckMxtkgi05",
        "outputId": "5b5ea444-64f2-4dac-fe39-c8e3d838dab7"
      },
      "source": [
        "lcvs.head() "
      ],
      "execution_count": 8,
      "outputs": [
        {
          "output_type": "execute_result",
          "data": {
            "text/plain": [
              "   object_id         mjd  passband        flux   flux_err  detected\n",
              "0        615  59750.4229         2 -544.810303   3.622952         1\n",
              "1        615  59750.4306         1 -816.434326   5.553370         1\n",
              "2        615  59750.4383         3 -471.385529   3.801213         1\n",
              "3        615  59750.4450         4 -388.984985  11.395031         1\n",
              "4        615  59752.4070         2 -681.858887   4.041204         1"
            ],
            "text/html": [
              "\n",
              "  <div id=\"df-76524381-c02a-4ab5-a71f-4fa3d48112a8\">\n",
              "    <div class=\"colab-df-container\">\n",
              "      <div>\n",
              "<style scoped>\n",
              "    .dataframe tbody tr th:only-of-type {\n",
              "        vertical-align: middle;\n",
              "    }\n",
              "\n",
              "    .dataframe tbody tr th {\n",
              "        vertical-align: top;\n",
              "    }\n",
              "\n",
              "    .dataframe thead th {\n",
              "        text-align: right;\n",
              "    }\n",
              "</style>\n",
              "<table border=\"1\" class=\"dataframe\">\n",
              "  <thead>\n",
              "    <tr style=\"text-align: right;\">\n",
              "      <th></th>\n",
              "      <th>object_id</th>\n",
              "      <th>mjd</th>\n",
              "      <th>passband</th>\n",
              "      <th>flux</th>\n",
              "      <th>flux_err</th>\n",
              "      <th>detected</th>\n",
              "    </tr>\n",
              "  </thead>\n",
              "  <tbody>\n",
              "    <tr>\n",
              "      <th>0</th>\n",
              "      <td>615</td>\n",
              "      <td>59750.4229</td>\n",
              "      <td>2</td>\n",
              "      <td>-544.810303</td>\n",
              "      <td>3.622952</td>\n",
              "      <td>1</td>\n",
              "    </tr>\n",
              "    <tr>\n",
              "      <th>1</th>\n",
              "      <td>615</td>\n",
              "      <td>59750.4306</td>\n",
              "      <td>1</td>\n",
              "      <td>-816.434326</td>\n",
              "      <td>5.553370</td>\n",
              "      <td>1</td>\n",
              "    </tr>\n",
              "    <tr>\n",
              "      <th>2</th>\n",
              "      <td>615</td>\n",
              "      <td>59750.4383</td>\n",
              "      <td>3</td>\n",
              "      <td>-471.385529</td>\n",
              "      <td>3.801213</td>\n",
              "      <td>1</td>\n",
              "    </tr>\n",
              "    <tr>\n",
              "      <th>3</th>\n",
              "      <td>615</td>\n",
              "      <td>59750.4450</td>\n",
              "      <td>4</td>\n",
              "      <td>-388.984985</td>\n",
              "      <td>11.395031</td>\n",
              "      <td>1</td>\n",
              "    </tr>\n",
              "    <tr>\n",
              "      <th>4</th>\n",
              "      <td>615</td>\n",
              "      <td>59752.4070</td>\n",
              "      <td>2</td>\n",
              "      <td>-681.858887</td>\n",
              "      <td>4.041204</td>\n",
              "      <td>1</td>\n",
              "    </tr>\n",
              "  </tbody>\n",
              "</table>\n",
              "</div>\n",
              "      <button class=\"colab-df-convert\" onclick=\"convertToInteractive('df-76524381-c02a-4ab5-a71f-4fa3d48112a8')\"\n",
              "              title=\"Convert this dataframe to an interactive table.\"\n",
              "              style=\"display:none;\">\n",
              "        \n",
              "  <svg xmlns=\"http://www.w3.org/2000/svg\" height=\"24px\"viewBox=\"0 0 24 24\"\n",
              "       width=\"24px\">\n",
              "    <path d=\"M0 0h24v24H0V0z\" fill=\"none\"/>\n",
              "    <path d=\"M18.56 5.44l.94 2.06.94-2.06 2.06-.94-2.06-.94-.94-2.06-.94 2.06-2.06.94zm-11 1L8.5 8.5l.94-2.06 2.06-.94-2.06-.94L8.5 2.5l-.94 2.06-2.06.94zm10 10l.94 2.06.94-2.06 2.06-.94-2.06-.94-.94-2.06-.94 2.06-2.06.94z\"/><path d=\"M17.41 7.96l-1.37-1.37c-.4-.4-.92-.59-1.43-.59-.52 0-1.04.2-1.43.59L10.3 9.45l-7.72 7.72c-.78.78-.78 2.05 0 2.83L4 21.41c.39.39.9.59 1.41.59.51 0 1.02-.2 1.41-.59l7.78-7.78 2.81-2.81c.8-.78.8-2.07 0-2.86zM5.41 20L4 18.59l7.72-7.72 1.47 1.35L5.41 20z\"/>\n",
              "  </svg>\n",
              "      </button>\n",
              "      \n",
              "  <style>\n",
              "    .colab-df-container {\n",
              "      display:flex;\n",
              "      flex-wrap:wrap;\n",
              "      gap: 12px;\n",
              "    }\n",
              "\n",
              "    .colab-df-convert {\n",
              "      background-color: #E8F0FE;\n",
              "      border: none;\n",
              "      border-radius: 50%;\n",
              "      cursor: pointer;\n",
              "      display: none;\n",
              "      fill: #1967D2;\n",
              "      height: 32px;\n",
              "      padding: 0 0 0 0;\n",
              "      width: 32px;\n",
              "    }\n",
              "\n",
              "    .colab-df-convert:hover {\n",
              "      background-color: #E2EBFA;\n",
              "      box-shadow: 0px 1px 2px rgba(60, 64, 67, 0.3), 0px 1px 3px 1px rgba(60, 64, 67, 0.15);\n",
              "      fill: #174EA6;\n",
              "    }\n",
              "\n",
              "    [theme=dark] .colab-df-convert {\n",
              "      background-color: #3B4455;\n",
              "      fill: #D2E3FC;\n",
              "    }\n",
              "\n",
              "    [theme=dark] .colab-df-convert:hover {\n",
              "      background-color: #434B5C;\n",
              "      box-shadow: 0px 1px 3px 1px rgba(0, 0, 0, 0.15);\n",
              "      filter: drop-shadow(0px 1px 2px rgba(0, 0, 0, 0.3));\n",
              "      fill: #FFFFFF;\n",
              "    }\n",
              "  </style>\n",
              "\n",
              "      <script>\n",
              "        const buttonEl =\n",
              "          document.querySelector('#df-76524381-c02a-4ab5-a71f-4fa3d48112a8 button.colab-df-convert');\n",
              "        buttonEl.style.display =\n",
              "          google.colab.kernel.accessAllowed ? 'block' : 'none';\n",
              "\n",
              "        async function convertToInteractive(key) {\n",
              "          const element = document.querySelector('#df-76524381-c02a-4ab5-a71f-4fa3d48112a8');\n",
              "          const dataTable =\n",
              "            await google.colab.kernel.invokeFunction('convertToInteractive',\n",
              "                                                     [key], {});\n",
              "          if (!dataTable) return;\n",
              "\n",
              "          const docLinkHtml = 'Like what you see? Visit the ' +\n",
              "            '<a target=\"_blank\" href=https://colab.research.google.com/notebooks/data_table.ipynb>data table notebook</a>'\n",
              "            + ' to learn more about interactive tables.';\n",
              "          element.innerHTML = '';\n",
              "          dataTable['output_type'] = 'display_data';\n",
              "          await google.colab.output.renderOutput(dataTable, element);\n",
              "          const docLink = document.createElement('div');\n",
              "          docLink.innerHTML = docLinkHtml;\n",
              "          element.appendChild(docLink);\n",
              "        }\n",
              "      </script>\n",
              "    </div>\n",
              "  </div>\n",
              "  "
            ]
          },
          "metadata": {},
          "execution_count": 8
        }
      ]
    },
    {
      "cell_type": "code",
      "metadata": {
        "colab": {
          "base_uri": "https://localhost:8080/"
        },
        "id": "-WiZeVM42Y0Q",
        "outputId": "548de6b9-4b1e-4ce3-b260-53b4a6449bdf"
      },
      "source": [
        "print(\"The shape of light curves dataset is:\", lcvs.shape)"
      ],
      "execution_count": 9,
      "outputs": [
        {
          "output_type": "stream",
          "name": "stdout",
          "text": [
            "The shape of light curves dataset is: (1421705, 6)\n"
          ]
        }
      ]
    },
    {
      "cell_type": "code",
      "metadata": {
        "id": "BQL3NuaD2k8p",
        "colab": {
          "base_uri": "https://localhost:8080/"
        },
        "outputId": "1549eaa4-5a77-41b5-d3bb-18fb77b16e15"
      },
      "source": [
        "#check missing values\n",
        "lcvs.isna().sum()"
      ],
      "execution_count": 10,
      "outputs": [
        {
          "output_type": "execute_result",
          "data": {
            "text/plain": [
              "object_id    0\n",
              "mjd          0\n",
              "passband     0\n",
              "flux         0\n",
              "flux_err     0\n",
              "detected     0\n",
              "dtype: int64"
            ]
          },
          "metadata": {},
          "execution_count": 10
        }
      ]
    },
    {
      "cell_type": "markdown",
      "metadata": {
        "id": "TWugx930lVYg"
      },
      "source": [
        "Read the Kaggle challenge for a description of the data . This \"Starter Kit\" which includes a notebook (written by y good friend Gautham Narayan) may be especially useful\n",
        "https://www.kaggle.com/michaelapers/the-plasticc-astronomy-starter-kit"
      ]
    },
    {
      "cell_type": "markdown",
      "metadata": {
        "id": "2ZyOj9TElVYg"
      },
      "source": [
        "For each object there are 6 time series in 6 different passbands "
      ]
    },
    {
      "cell_type": "code",
      "metadata": {
        "ExecuteTime": {
          "end_time": "2020-04-05T15:08:28.281141Z",
          "start_time": "2020-04-05T15:08:28.273051Z"
        },
        "id": "MJy3H0dplVYg",
        "colab": {
          "base_uri": "https://localhost:8080/"
        },
        "outputId": "b2461ff2-eb7d-4c66-9f4c-c667c66d9c4a"
      },
      "source": [
        "bands = lcvs[\"passband\"].unique()\n",
        "print(\"Passbands (filter) identifiers:\", bands)"
      ],
      "execution_count": 11,
      "outputs": [
        {
          "output_type": "stream",
          "name": "stdout",
          "text": [
            "Passbands (filter) identifiers: [2 1 3 4 5 0]\n"
          ]
        }
      ]
    },
    {
      "cell_type": "code",
      "metadata": {
        "ExecuteTime": {
          "end_time": "2020-04-05T15:08:28.299030Z",
          "start_time": "2020-04-05T15:08:28.283127Z"
        },
        "id": "75WQrrI8lVYh",
        "colab": {
          "base_uri": "https://localhost:8080/"
        },
        "outputId": "0290d754-9910-4ece-f693-eaa011554220"
      },
      "source": [
        "objects = lcvs[\"object_id\"].unique()\n",
        "print(\"There are {} astrophysical simulated objects in my dataset\".format(objects.shape[0]))"
      ],
      "execution_count": 12,
      "outputs": [
        {
          "output_type": "stream",
          "name": "stdout",
          "text": [
            "There are 7848 astrophysical simulated objects in my dataset\n"
          ]
        }
      ]
    },
    {
      "cell_type": "code",
      "metadata": {
        "colab": {
          "base_uri": "https://localhost:8080/",
          "height": 206
        },
        "id": "USNm_ECcPRSI",
        "outputId": "a026b633-6e57-4146-81ff-24637e938beb"
      },
      "source": [
        "metadata = pd.read_csv(\"training_set_metadata.csv\")\n",
        "metadata.head()"
      ],
      "execution_count": 13,
      "outputs": [
        {
          "output_type": "execute_result",
          "data": {
            "text/plain": [
              "   object_id          ra       decl       gal_l      gal_b  ddf  \\\n",
              "0        615  349.046051 -61.943836  320.796530 -51.753706    1   \n",
              "1        713   53.085938 -27.784405  223.525509 -54.460748    1   \n",
              "2        730   33.574219  -6.579593  170.455585 -61.548219    1   \n",
              "3        745    0.189873 -45.586655  328.254458 -68.969298    1   \n",
              "4       1124  352.711273 -63.823658  316.922299 -51.059403    1   \n",
              "\n",
              "   hostgal_specz  hostgal_photoz  hostgal_photoz_err  distmod  mwebv  target  \n",
              "0         0.0000          0.0000              0.0000      NaN  0.017      92  \n",
              "1         1.8181          1.6267              0.2552  45.4063  0.007      88  \n",
              "2         0.2320          0.2262              0.0157  40.2561  0.021      42  \n",
              "3         0.3037          0.2813              1.1523  40.7951  0.007      90  \n",
              "4         0.1934          0.2415              0.0176  40.4166  0.024      90  "
            ],
            "text/html": [
              "\n",
              "  <div id=\"df-6c551200-b7c5-4534-acd4-23b2fa40bf2d\">\n",
              "    <div class=\"colab-df-container\">\n",
              "      <div>\n",
              "<style scoped>\n",
              "    .dataframe tbody tr th:only-of-type {\n",
              "        vertical-align: middle;\n",
              "    }\n",
              "\n",
              "    .dataframe tbody tr th {\n",
              "        vertical-align: top;\n",
              "    }\n",
              "\n",
              "    .dataframe thead th {\n",
              "        text-align: right;\n",
              "    }\n",
              "</style>\n",
              "<table border=\"1\" class=\"dataframe\">\n",
              "  <thead>\n",
              "    <tr style=\"text-align: right;\">\n",
              "      <th></th>\n",
              "      <th>object_id</th>\n",
              "      <th>ra</th>\n",
              "      <th>decl</th>\n",
              "      <th>gal_l</th>\n",
              "      <th>gal_b</th>\n",
              "      <th>ddf</th>\n",
              "      <th>hostgal_specz</th>\n",
              "      <th>hostgal_photoz</th>\n",
              "      <th>hostgal_photoz_err</th>\n",
              "      <th>distmod</th>\n",
              "      <th>mwebv</th>\n",
              "      <th>target</th>\n",
              "    </tr>\n",
              "  </thead>\n",
              "  <tbody>\n",
              "    <tr>\n",
              "      <th>0</th>\n",
              "      <td>615</td>\n",
              "      <td>349.046051</td>\n",
              "      <td>-61.943836</td>\n",
              "      <td>320.796530</td>\n",
              "      <td>-51.753706</td>\n",
              "      <td>1</td>\n",
              "      <td>0.0000</td>\n",
              "      <td>0.0000</td>\n",
              "      <td>0.0000</td>\n",
              "      <td>NaN</td>\n",
              "      <td>0.017</td>\n",
              "      <td>92</td>\n",
              "    </tr>\n",
              "    <tr>\n",
              "      <th>1</th>\n",
              "      <td>713</td>\n",
              "      <td>53.085938</td>\n",
              "      <td>-27.784405</td>\n",
              "      <td>223.525509</td>\n",
              "      <td>-54.460748</td>\n",
              "      <td>1</td>\n",
              "      <td>1.8181</td>\n",
              "      <td>1.6267</td>\n",
              "      <td>0.2552</td>\n",
              "      <td>45.4063</td>\n",
              "      <td>0.007</td>\n",
              "      <td>88</td>\n",
              "    </tr>\n",
              "    <tr>\n",
              "      <th>2</th>\n",
              "      <td>730</td>\n",
              "      <td>33.574219</td>\n",
              "      <td>-6.579593</td>\n",
              "      <td>170.455585</td>\n",
              "      <td>-61.548219</td>\n",
              "      <td>1</td>\n",
              "      <td>0.2320</td>\n",
              "      <td>0.2262</td>\n",
              "      <td>0.0157</td>\n",
              "      <td>40.2561</td>\n",
              "      <td>0.021</td>\n",
              "      <td>42</td>\n",
              "    </tr>\n",
              "    <tr>\n",
              "      <th>3</th>\n",
              "      <td>745</td>\n",
              "      <td>0.189873</td>\n",
              "      <td>-45.586655</td>\n",
              "      <td>328.254458</td>\n",
              "      <td>-68.969298</td>\n",
              "      <td>1</td>\n",
              "      <td>0.3037</td>\n",
              "      <td>0.2813</td>\n",
              "      <td>1.1523</td>\n",
              "      <td>40.7951</td>\n",
              "      <td>0.007</td>\n",
              "      <td>90</td>\n",
              "    </tr>\n",
              "    <tr>\n",
              "      <th>4</th>\n",
              "      <td>1124</td>\n",
              "      <td>352.711273</td>\n",
              "      <td>-63.823658</td>\n",
              "      <td>316.922299</td>\n",
              "      <td>-51.059403</td>\n",
              "      <td>1</td>\n",
              "      <td>0.1934</td>\n",
              "      <td>0.2415</td>\n",
              "      <td>0.0176</td>\n",
              "      <td>40.4166</td>\n",
              "      <td>0.024</td>\n",
              "      <td>90</td>\n",
              "    </tr>\n",
              "  </tbody>\n",
              "</table>\n",
              "</div>\n",
              "      <button class=\"colab-df-convert\" onclick=\"convertToInteractive('df-6c551200-b7c5-4534-acd4-23b2fa40bf2d')\"\n",
              "              title=\"Convert this dataframe to an interactive table.\"\n",
              "              style=\"display:none;\">\n",
              "        \n",
              "  <svg xmlns=\"http://www.w3.org/2000/svg\" height=\"24px\"viewBox=\"0 0 24 24\"\n",
              "       width=\"24px\">\n",
              "    <path d=\"M0 0h24v24H0V0z\" fill=\"none\"/>\n",
              "    <path d=\"M18.56 5.44l.94 2.06.94-2.06 2.06-.94-2.06-.94-.94-2.06-.94 2.06-2.06.94zm-11 1L8.5 8.5l.94-2.06 2.06-.94-2.06-.94L8.5 2.5l-.94 2.06-2.06.94zm10 10l.94 2.06.94-2.06 2.06-.94-2.06-.94-.94-2.06-.94 2.06-2.06.94z\"/><path d=\"M17.41 7.96l-1.37-1.37c-.4-.4-.92-.59-1.43-.59-.52 0-1.04.2-1.43.59L10.3 9.45l-7.72 7.72c-.78.78-.78 2.05 0 2.83L4 21.41c.39.39.9.59 1.41.59.51 0 1.02-.2 1.41-.59l7.78-7.78 2.81-2.81c.8-.78.8-2.07 0-2.86zM5.41 20L4 18.59l7.72-7.72 1.47 1.35L5.41 20z\"/>\n",
              "  </svg>\n",
              "      </button>\n",
              "      \n",
              "  <style>\n",
              "    .colab-df-container {\n",
              "      display:flex;\n",
              "      flex-wrap:wrap;\n",
              "      gap: 12px;\n",
              "    }\n",
              "\n",
              "    .colab-df-convert {\n",
              "      background-color: #E8F0FE;\n",
              "      border: none;\n",
              "      border-radius: 50%;\n",
              "      cursor: pointer;\n",
              "      display: none;\n",
              "      fill: #1967D2;\n",
              "      height: 32px;\n",
              "      padding: 0 0 0 0;\n",
              "      width: 32px;\n",
              "    }\n",
              "\n",
              "    .colab-df-convert:hover {\n",
              "      background-color: #E2EBFA;\n",
              "      box-shadow: 0px 1px 2px rgba(60, 64, 67, 0.3), 0px 1px 3px 1px rgba(60, 64, 67, 0.15);\n",
              "      fill: #174EA6;\n",
              "    }\n",
              "\n",
              "    [theme=dark] .colab-df-convert {\n",
              "      background-color: #3B4455;\n",
              "      fill: #D2E3FC;\n",
              "    }\n",
              "\n",
              "    [theme=dark] .colab-df-convert:hover {\n",
              "      background-color: #434B5C;\n",
              "      box-shadow: 0px 1px 3px 1px rgba(0, 0, 0, 0.15);\n",
              "      filter: drop-shadow(0px 1px 2px rgba(0, 0, 0, 0.3));\n",
              "      fill: #FFFFFF;\n",
              "    }\n",
              "  </style>\n",
              "\n",
              "      <script>\n",
              "        const buttonEl =\n",
              "          document.querySelector('#df-6c551200-b7c5-4534-acd4-23b2fa40bf2d button.colab-df-convert');\n",
              "        buttonEl.style.display =\n",
              "          google.colab.kernel.accessAllowed ? 'block' : 'none';\n",
              "\n",
              "        async function convertToInteractive(key) {\n",
              "          const element = document.querySelector('#df-6c551200-b7c5-4534-acd4-23b2fa40bf2d');\n",
              "          const dataTable =\n",
              "            await google.colab.kernel.invokeFunction('convertToInteractive',\n",
              "                                                     [key], {});\n",
              "          if (!dataTable) return;\n",
              "\n",
              "          const docLinkHtml = 'Like what you see? Visit the ' +\n",
              "            '<a target=\"_blank\" href=https://colab.research.google.com/notebooks/data_table.ipynb>data table notebook</a>'\n",
              "            + ' to learn more about interactive tables.';\n",
              "          element.innerHTML = '';\n",
              "          dataTable['output_type'] = 'display_data';\n",
              "          await google.colab.output.renderOutput(dataTable, element);\n",
              "          const docLink = document.createElement('div');\n",
              "          docLink.innerHTML = docLinkHtml;\n",
              "          element.appendChild(docLink);\n",
              "        }\n",
              "      </script>\n",
              "    </div>\n",
              "  </div>\n",
              "  "
            ]
          },
          "metadata": {},
          "execution_count": 13
        }
      ]
    },
    {
      "cell_type": "code",
      "metadata": {
        "id": "VuWokYGTRP8r",
        "colab": {
          "base_uri": "https://localhost:8080/"
        },
        "outputId": "934b0a97-856b-4d08-d26b-88741b2284f6"
      },
      "source": [
        "print(\"The metadata columns are: \", metadata.columns)"
      ],
      "execution_count": 14,
      "outputs": [
        {
          "output_type": "stream",
          "name": "stdout",
          "text": [
            "The metadata columns are:  Index(['object_id', 'ra', 'decl', 'gal_l', 'gal_b', 'ddf', 'hostgal_specz',\n",
            "       'hostgal_photoz', 'hostgal_photoz_err', 'distmod', 'mwebv', 'target'],\n",
            "      dtype='object')\n"
          ]
        }
      ]
    },
    {
      "cell_type": "code",
      "metadata": {
        "id": "1tQRZvDRRafP",
        "colab": {
          "base_uri": "https://localhost:8080/"
        },
        "outputId": "015016c5-7365-49b0-ec92-3696b1c6e73f"
      },
      "source": [
        "print(\"The metadata dataset contains features: \", metadata.shape[1])"
      ],
      "execution_count": 15,
      "outputs": [
        {
          "output_type": "stream",
          "name": "stdout",
          "text": [
            "The metadata dataset contains features:  12\n"
          ]
        }
      ]
    },
    {
      "cell_type": "markdown",
      "metadata": {
        "id": "toxu4YKKlVYi"
      },
      "source": [
        "# TASK II : data exploration and visualization - plot some time series \n",
        "Visualize my data to get a sense of what we are working with. \n",
        "\n",
        "\n",
        "\n"
      ]
    },
    {
      "cell_type": "markdown",
      "metadata": {
        "id": "UZB5DqYwnVpQ"
      },
      "source": [
        "Plot light curves for 10 objects. "
      ]
    },
    {
      "cell_type": "code",
      "source": [
        "lcvs.keys()"
      ],
      "metadata": {
        "colab": {
          "base_uri": "https://localhost:8080/"
        },
        "id": "GhS9Qiaxhxfw",
        "outputId": "ebbcc8e7-4dde-4ac1-dbd6-2e589bd5d547"
      },
      "execution_count": 16,
      "outputs": [
        {
          "output_type": "execute_result",
          "data": {
            "text/plain": [
              "Index(['object_id', 'mjd', 'passband', 'flux', 'flux_err', 'detected'], dtype='object')"
            ]
          },
          "metadata": {},
          "execution_count": 16
        }
      ]
    },
    {
      "cell_type": "code",
      "source": [
        "plot_objects_id = lcvs[\"object_id\"].unique()[:10]\n",
        "print(\"I will plot light curves of \", plot_objects_id)\n",
        "pbnames = ['u','g','r','i','z','y']"
      ],
      "metadata": {
        "colab": {
          "base_uri": "https://localhost:8080/"
        },
        "id": "v843zZTngDQG",
        "outputId": "28d1afc5-0f92-4f84-8f80-238a57ecf73a"
      },
      "execution_count": 17,
      "outputs": [
        {
          "output_type": "stream",
          "name": "stdout",
          "text": [
            "I will plot light curves of  [ 615  713  730  745 1124 1227 1598 1632 1920 1926]\n"
          ]
        }
      ]
    },
    {
      "cell_type": "code",
      "source": [
        "fig = plt.figure(figsize = (30, 15))\n",
        "axes = []\n",
        "for i_plot in range(10):\n",
        "  axes.append(fig.add_subplot(3, 4, i_plot+1))\n",
        "  id = plot_objects_id[i_plot]\n",
        "  mask = lcvs['object_id'] == id\n",
        "  x = lcvs['mjd'][mask]\n",
        "  y = lcvs['flux'][mask]\n",
        "  yerr = lcvs['flux_err'][mask]\n",
        "  label = lcvs['passband'][mask]\n",
        "\n",
        "  for f in label.unique():\n",
        "    label_mask = label == f\n",
        "    axes[-1].errorbar(x[label_mask], y[label_mask], yerr=yerr[label_mask], fmt='o', label = pbnames[f])\n",
        "    axes[-1].set_title('object {}'.format(id))\n",
        "    axes[-1].set_xlabel('mjd')\n",
        "    axes[-1].set_ylabel('flux')\n",
        "pl.legend()"
      ],
      "metadata": {
        "colab": {
          "base_uri": "https://localhost:8080/",
          "height": 911
        },
        "id": "qFGP5mCKilWO",
        "outputId": "03473fdf-c2c8-453a-dbbe-f7d82a280e69"
      },
      "execution_count": 18,
      "outputs": [
        {
          "output_type": "execute_result",
          "data": {
            "text/plain": [
              "<matplotlib.legend.Legend at 0x7f6693116c10>"
            ]
          },
          "metadata": {},
          "execution_count": 18
        },
        {
          "output_type": "display_data",
          "data": {
            "text/plain": [
              "<Figure size 2160x1080 with 10 Axes>"
            ],
            "image/png": "[encoded data removed]"
          },
          "metadata": {
            "needs_background": "light"
          }
        }
      ]
    },
    {
      "cell_type": "markdown",
      "source": [
        "Figure shows the light curves for first 10 objects. X axis (time) is mjd, while yaxis is flux. \n",
        "\n",
        "From the graph, it seems like the the data is unequal interval timeseries, where the observations are collected mainly at 3 timesteps: around 59600, 60000, and 60400.\n",
        "\n",
        "\n",
        "Some object timeseries has an outlier, e.g object 1926 has an outlier with huge flux error. There are also sharp peak value in some time series e.g object 1920, 730, 745, 1598"
      ],
      "metadata": {
        "id": "8c1re9PulkaZ"
      }
    },
    {
      "cell_type": "code",
      "source": [
        "id = 84716\n",
        "mask = lcvs['object_id'] == id\n",
        "x = lcvs['mjd'][mask]\n",
        "y = lcvs['flux'][mask]\n",
        "yerr = lcvs['flux_err'][mask]\n",
        "label = lcvs['passband'][mask]\n",
        "\n",
        "for f in label.unique():\n",
        "  label_mask = label == f\n",
        "  # print(np.mean(y[label_mask]))\n",
        "  # print(np.sum(label_mask))\n",
        "  pl.errorbar(x[label_mask], y[label_mask], yerr=yerr[label_mask], fmt='o', label = pbnames[f])\n",
        "  pl.title('object {}'.format(id))\n",
        "  pl.xlabel('mjd')\n",
        "  pl.ylabel('flux')\n",
        "pl.legend()"
      ],
      "metadata": {
        "id": "hcXuGCqtUV7o",
        "outputId": "c5d2bc1b-ee28-4ff5-b9c3-5e22afb2663b",
        "colab": {
          "base_uri": "https://localhost:8080/",
          "height": 313
        }
      },
      "execution_count": 19,
      "outputs": [
        {
          "output_type": "execute_result",
          "data": {
            "text/plain": [
              "<matplotlib.legend.Legend at 0x7f66931d4510>"
            ]
          },
          "metadata": {},
          "execution_count": 19
        },
        {
          "output_type": "display_data",
          "data": {
            "text/plain": [
              "<Figure size 432x288 with 1 Axes>"
            ],
            "image/png": "[encoded data removed]"
          },
          "metadata": {
            "needs_background": "light"
          }
        }
      ]
    },
    {
      "cell_type": "markdown",
      "source": [
        "light curves of object 84716"
      ],
      "metadata": {
        "id": "OZ8bgtCKmFww"
      }
    },
    {
      "cell_type": "code",
      "source": [
        "id = 118664463\n",
        "mask = lcvs['object_id'] == id\n",
        "x = lcvs['mjd'][mask]\n",
        "y = lcvs['flux'][mask]\n",
        "yerr = lcvs['flux_err'][mask]\n",
        "label = lcvs['passband'][mask]\n",
        "\n",
        "for f in label.unique():\n",
        "  label_mask = label == f\n",
        "  # print(np.mean(y[label_mask]))\n",
        "  # print(np.sum(label_mask))\n",
        "  pl.errorbar(x[label_mask], y[label_mask], yerr=yerr[label_mask], fmt='o', label = pbnames[f])\n",
        "  pl.title('object {}'.format(id))\n",
        "  pl.xlabel('mjd')\n",
        "  pl.ylabel('flux')\n",
        "pl.legend()"
      ],
      "metadata": {
        "colab": {
          "base_uri": "https://localhost:8080/",
          "height": 313
        },
        "id": "lIPfT1_yljed",
        "outputId": "0f0d6eff-8196-4935-a4fa-9029724253c4"
      },
      "execution_count": 20,
      "outputs": [
        {
          "output_type": "execute_result",
          "data": {
            "text/plain": [
              "<matplotlib.legend.Legend at 0x7f66911df750>"
            ]
          },
          "metadata": {},
          "execution_count": 20
        },
        {
          "output_type": "display_data",
          "data": {
            "text/plain": [
              "<Figure size 432x288 with 1 Axes>"
            ],
            "image/png": "[encoded data removed]"
          },
          "metadata": {
            "needs_background": "light"
          }
        }
      ]
    },
    {
      "cell_type": "markdown",
      "source": [
        "This object 118664463 is an outlier. It has a huge flux value in passband 0 (u) which hurt the distogram in the later part."
      ],
      "metadata": {
        "id": "X25ZAQMsT9hQ"
      }
    },
    {
      "cell_type": "markdown",
      "metadata": {
        "id": "dvf0NyI9lVYj"
      },
      "source": [
        "# TASK III: Extract features\n",
        "\n",
        "Feature extraction refers to the extraction of statistical features of the datapoints or the generation of low dimensional representations of the data points that can then be passed to a classifier/regression\n",
        "\n",
        "Extract at least 4 features including at least 1 feature from all three category below\n",
        "\n",
        "The code that won the callenge did a number of smart things, of course. It was a feature based classification scheme, which included Gaussian Processes in the preprocessing. The feature extraction part of the code is here. https://github.com/kboone/avocado/blob/master/avocado/plasticc.py\n",
        "\n",
        "Examples of features you can extract:\n",
        "\n",
        "- **from the original lightcurve**: \n",
        "    - mean, \n",
        "    - standard deviation, \n",
        "    - skewness, \n",
        "    - kurthosis, \n",
        "    - minimum \n",
        "    - maximmum,\n",
        "    - error on the minimum and \n",
        "    - error on the maximum, \n",
        "- **from the standardized lightcurve**:\n",
        "    - median \n",
        "    - slope of a line fit\n",
        "    - intercept of a line fit\n",
        "    - likelihood of the line fit\n",
        "    - likelihood of a quadratic fit\n",
        "    - sign of the quadratic parameter\n",
        "\n",
        "\n",
        "- **from the metadata file**:\n",
        "    - decl; this is one of the positions in the sky variables: important because the position on the sky may determin if it is a galactic or extragalactic object\n",
        "    - ddf_bool ; the kind of survey i.e. the data collection scheme that lead to the time series\n",
        "    - hostgal_photoz\n",
        "    - hostgal_photoz_err\n",
        "    \n",
        "The feature in the metadata files are the hardest ones to decide on because they require domain knowledge.\n",
        "Most of the other features in the metadata are unknown for test objects (only known for the training set)\n",
        "\n",
        "\n",
        "Extract at least 4 features including 1 features from all three category above: original lcv, standardized lcv, metadata. Justify each feature. Coming up with different features than the ones I suggested is very welcome! Remember that if the features are extracted from the time series there will be 4 features for each passbands.\n",
        "\n",
        "Note: we are working with bigg-ish data! \n",
        "First off: every new piece should be developed on a subset of the dataset, then run on all the data only when ready. \n",
        "Still, if you try achieve goals by implementing for loops you are not going to be able to run the notebook for the whole data, or even only 1 batch of the full datase. A good solution is to use the groupby() method in pandas. I used groupby everywhere. Also it may be wise to write out intermediate outputs, so you do not have to loose work if your kernel dies or something similar. "
      ]
    },
    {
      "cell_type": "markdown",
      "metadata": {
        "id": "4OU5iAEFlVYk"
      },
      "source": [
        "\n",
        "describe each feature you plan to extract. Briefly indicate why you think it is a valuable feature and what data type is it (e.g. continuous, binary, categorical, if continuous does it have a max or min value or is it unbound?)\n",
        "\n",
        "        "
      ]
    },
    {
      "cell_type": "markdown",
      "metadata": {
        "id": "5ytS0DzhlVYk"
      },
      "source": [
        "### extract some features from the raw lightcurve - \n"
      ]
    },
    {
      "cell_type": "markdown",
      "metadata": {
        "id": "gjaS_wTClVYl"
      },
      "source": [
        "higher order moments of the distribution can be obtained with the scipy.stats.moment() function which can be applied to a grouby() object\n",
        "note that this way you can apply a function that takes only one argument, the argument over which groupby iterates (the flux here). But moments take 2: the value and the moment Create a function call"
      ]
    },
    {
      "cell_type": "markdown",
      "source": [
        "#my chosen features are: mean, stardard deviation, slope and standard error of line fit and decl.\n",
        "\n",
        "Mean, standard deviation: From the plots above, different object has clearly different mean flux. So they are useful to tell which object.\n",
        "\n",
        "slope, standarderror : whithin same object, each passband timeseries are quite linear. bUt the outlier may hurt the slope, so I use standarderror also\n",
        "\n",
        "\n",
        "decl, ddf_bool: I have no domain knowledge, so I picked this one because the description says this is important\n",
        "\n",
        "all features are continuous values except ddf_bool which is binary"
      ],
      "metadata": {
        "id": "yn8r6aw_3ey5"
      }
    },
    {
      "cell_type": "code",
      "metadata": {
        "ExecuteTime": {
          "end_time": "2020-04-05T15:08:31.653520Z",
          "start_time": "2020-04-05T15:08:31.493218Z"
        },
        "id": "IbscbPtrlVYk",
        "colab": {
          "base_uri": "https://localhost:8080/"
        },
        "outputId": "ef6e469c-c2c2-43f5-9097-949c11f1dc11"
      },
      "source": [
        "#example (you can use this code but this wont count for your 4 features)\n",
        "group_data = lcvs.groupby([\"object_id\", \"passband\"])[['flux']]\n",
        "stds = group_data.std()\n",
        "means = group_data.mean()\n",
        "print(stds.shape)\n",
        "print(means.shape)"
      ],
      "execution_count": 21,
      "outputs": [
        {
          "output_type": "stream",
          "name": "stdout",
          "text": [
            "(47088, 1)\n",
            "(47088, 1)\n"
          ]
        }
      ]
    },
    {
      "cell_type": "code",
      "source": [
        "group_flux_data = lcvs.groupby([\"object_id\", \"passband\"])[['flux']]\n",
        "flux = lcvs.groupby([\"object_id\", \"passband\"])['flux'].apply(list).to_dict()\n",
        "mjd = lcvs.groupby([\"object_id\", \"passband\"])['mjd'].apply(list).to_dict()\n"
      ],
      "metadata": {
        "id": "_Bhdk1lqDm_f"
      },
      "execution_count": 23,
      "outputs": []
    },
    {
      "cell_type": "code",
      "source": [
        "from scipy import stats\n",
        "from tqdm.notebook import tqdm\n",
        "standardized_flux = {}\n",
        "slopes , std_errs = {}, {}\n",
        "means, stds = {}, {}\n",
        "keys = list(flux.keys())\n",
        "for i in tqdm(range(len(keys))):\n",
        "  key = keys[i]\n",
        "  means[key] = np.array(flux[key]).mean()\n",
        "  stds[key] = np.array(flux[key]).std()\n",
        "  \n",
        "  standardized_flux[key] = (np.array(flux[key]) - means[key])/stds[key]\n",
        "  slope, _, _, _, std_err = stats.linregress(mjd[key], standardized_flux[key])\n",
        "  slopes[key] = slope\n",
        "  std_errs[key] = std_err"
      ],
      "metadata": {
        "id": "zFzU47E5o5nT",
        "outputId": "392946c6-fc5d-4d52-d14f-bb0184d7e17a",
        "colab": {
          "base_uri": "https://localhost:8080/",
          "height": 48,
          "referenced_widgets": [
            "8e25a3f1de65462b95eb945711fe4938",
            "384e49083f3a4e548af429571bc59c4d",
            "1fa7fde4913041a5afbc777369315a2f",
            "d00b6607bd674c35b83bc27d1bc1f448",
            "36d19bbe5d1343b698a1bf5224a583f2",
            "3e262f0e85cc437786bd2ae390ff665d",
            "94c79dcd54e04bd780273a8f9f23d9d3",
            "8585161144b54d3b827403d2828df97b",
            "bbd2223d08e944f1b66963aea44b590c",
            "ead103e89e2b42ba999bdaff805acc2a",
            "3f0857f5fb7a4f56aa4827134bb55aa2"
          ]
        }
      },
      "execution_count": 24,
      "outputs": [
        {
          "output_type": "display_data",
          "data": {
            "text/plain": [
              "  0%|          | 0/47088 [00:00<?, ?it/s]"
            ],
            "application/vnd.jupyter.widget-view+json": {
              "version_major": 2,
              "version_minor": 0,
              "model_id": "8e25a3f1de65462b95eb945711fe4938"
            }
          },
          "metadata": {}
        }
      ]
    },
    {
      "cell_type": "code",
      "source": [
        "def meregeFeatures(arr_features):\n",
        "  features = []\n",
        "  for (i, feature) in enumerate(arr_features):\n",
        "    np_feature = np.atleast_2d(list(feature.values())).T\n",
        "    features.append(list(feature.values()))\n",
        "  features = np.stack(features, axis = 0)\n",
        "  return features.T\n",
        "features = meregeFeatures([means, stds, slopes, std_errs])\n",
        "features.shape"
      ],
      "metadata": {
        "id": "uIW56mCdr210",
        "outputId": "8a232f10-483b-40de-9036-e6787e26af25",
        "colab": {
          "base_uri": "https://localhost:8080/"
        }
      },
      "execution_count": 25,
      "outputs": [
        {
          "output_type": "execute_result",
          "data": {
            "text/plain": [
              "(47088, 4)"
            ]
          },
          "metadata": {},
          "execution_count": 25
        }
      ]
    },
    {
      "cell_type": "code",
      "source": [
        "gr_passband = lcvs.groupby([\"object_id\", \"passband\"])['passband'].apply(list).to_dict()\n",
        "passband = []\n",
        "for i in tqdm(range(len(keys))):\n",
        "  key = keys[i]\n",
        "  passband.append(gr_passband[key][0])"
      ],
      "metadata": {
        "id": "VfZSm4c42RK7",
        "outputId": "d5695fb1-ae28-4e0c-e6e2-ec4dfb95ea65",
        "colab": {
          "base_uri": "https://localhost:8080/",
          "height": 48,
          "referenced_widgets": [
            "52536745f9804112b78d1a953af52438",
            "c6891213370a4a3e9e4d609226b4840b",
            "8faac7b9bec84e0e92006b31d8cc1916",
            "4decb7fabd5e40548b4a1bad2204bd07",
            "b191dd4e4dcd4b84b13a5c7aaadd5a93",
            "d4a280dda7dc402d88d885b985d3b5df",
            "9febb7189f194fb0a1888b5095196fe1",
            "82d70176c42a4408a514196ed15fac8e",
            "36bac785903e4c7bbb96b1b824bc95ab",
            "e674ca8294a34da69a1e1ad23715717b",
            "5e74438191214c38b15bbd34d3cca355"
          ]
        }
      },
      "execution_count": 26,
      "outputs": [
        {
          "output_type": "display_data",
          "data": {
            "text/plain": [
              "  0%|          | 0/47088 [00:00<?, ?it/s]"
            ],
            "application/vnd.jupyter.widget-view+json": {
              "version_major": 2,
              "version_minor": 0,
              "model_id": "52536745f9804112b78d1a953af52438"
            }
          },
          "metadata": {}
        }
      ]
    },
    {
      "cell_type": "code",
      "source": [
        "passband = np.array(passband)\n",
        "datas = []\n",
        "for (i, label) in enumerate(range(6)):\n",
        "  passband_mask = passband == label\n",
        "  datas.append(features[passband_mask])\n",
        "\n",
        "datas = np.stack(datas, axis = 1)\n",
        "datas = datas.reshape(datas.shape[0], -1)"
      ],
      "metadata": {
        "id": "k2oVjH5P0Laq"
      },
      "execution_count": 27,
      "outputs": []
    },
    {
      "cell_type": "code",
      "source": [
        "decl = np.atleast_2d(metadata['decl'].to_numpy()).T\n",
        "ddf = np.atleast_2d(metadata['ddf'].to_numpy()).T\n",
        "object_id = np.atleast_2d(np.unique(lcvs['object_id'].to_numpy())).T.astype(int)\n",
        "datas = np.concatenate((datas, decl), axis = -1)\n",
        "datas = np.concatenate((datas, ddf), axis = -1)\n",
        "datas = np.concatenate((datas, object_id), axis = -1)"
      ],
      "metadata": {
        "id": "ES1GqzXH6cMK"
      },
      "execution_count": 28,
      "outputs": []
    },
    {
      "cell_type": "code",
      "source": [
        "columns = [\"mean\", \"std\", \"slope\", \"std_err\"]\n",
        "column_names = []\n",
        "for i in range(6):\n",
        "  for column in columns:\n",
        "    column_names.append(\"{}_{}\".format(i, column))\n",
        "column_names.append(\"decl\")\n",
        "column_names.append(\"ddf\")\n",
        "column_names.append(\"object_id\")\n",
        "\n",
        "\n",
        "features = pd.DataFrame(datas, columns = column_names)\n",
        "features = features.set_index(\"object_id\")"
      ],
      "metadata": {
        "id": "h1zcMXzz57z3"
      },
      "execution_count": 29,
      "outputs": []
    },
    {
      "cell_type": "code",
      "source": [
        "features.shape"
      ],
      "metadata": {
        "id": "bs0VF4u1I2xf",
        "outputId": "f1edb940-220c-4cf0-834c-124d2a2e587f",
        "colab": {
          "base_uri": "https://localhost:8080/"
        }
      },
      "execution_count": 30,
      "outputs": [
        {
          "output_type": "execute_result",
          "data": {
            "text/plain": [
              "(7848, 26)"
            ]
          },
          "metadata": {},
          "execution_count": 30
        }
      ]
    },
    {
      "cell_type": "code",
      "source": [
        "features.head()"
      ],
      "metadata": {
        "id": "coEzdYIq-qTk",
        "outputId": "2976487e-9fa0-4278-8f50-5f4f24fa81e7",
        "colab": {
          "base_uri": "https://localhost:8080/",
          "height": 266
        }
      },
      "execution_count": 31,
      "outputs": [
        {
          "output_type": "execute_result",
          "data": {
            "text/plain": [
              "             0_mean      0_std   0_slope  0_std_err      1_mean       1_std  \\\n",
              "object_id                                                                     \n",
              "615.0     -3.254554  83.275842  0.000528   0.000461 -385.699911  596.576924   \n",
              "713.0     -2.720398   7.062516 -0.002880   0.000200   -1.019804    5.661101   \n",
              "730.0     -0.048080   1.816127 -0.000122   0.000379    0.141057    1.789767   \n",
              "745.0      1.797523   4.343961 -0.000705   0.000412    5.717394   25.731788   \n",
              "1124.0     0.660948   2.341279  0.001244   0.000438    4.634637    8.037329   \n",
              "\n",
              "            1_slope  1_std_err      2_mean       2_std  ...     4_mean  \\\n",
              "object_id                                               ...              \n",
              "615.0      0.000564   0.000419 -134.146566  451.180827  ... -55.954592   \n",
              "713.0     -0.002824   0.000212   -0.794238    5.718981  ...  -0.900262   \n",
              "730.0      0.000341   0.000474    2.400870    5.505767  ...   4.308728   \n",
              "745.0     -0.000093   0.000439    9.711532   31.671373  ...  13.134436   \n",
              "1124.0     0.001881   0.000343   10.243968   21.135263  ...   9.906102   \n",
              "\n",
              "                4_std   4_slope  4_std_err     5_mean       5_std   5_slope  \\\n",
              "object_id                                                                     \n",
              "615.0      289.276965  0.001046   0.000402 -47.449847  292.182295  0.001012   \n",
              "713.0        6.349526 -0.002706   0.000239  -1.794175    7.030448 -0.001996   \n",
              "730.0       10.604821  0.001492   0.000426   4.539396   13.201397  0.001271   \n",
              "745.0       32.772464 -0.000109   0.000439  10.746138   25.822133  0.000003   \n",
              "1124.0      26.633303  0.001356   0.000385   6.896742   21.245772  0.001120   \n",
              "\n",
              "           5_std_err       decl  ddf  \n",
              "object_id                             \n",
              "615.0       0.000410 -61.943836  1.0  \n",
              "713.0       0.000345 -27.784405  1.0  \n",
              "730.0       0.000440  -6.579593  1.0  \n",
              "745.0       0.000444 -45.586655  1.0  \n",
              "1124.0      0.000405 -63.823658  1.0  \n",
              "\n",
              "[5 rows x 26 columns]"
            ],
            "text/html": [
              "\n",
              "  <div id=\"df-d6b0c3ff-9142-4a39-849a-bced095ddff4\">\n",
              "    <div class=\"colab-df-container\">\n",
              "      <div>\n",
              "<style scoped>\n",
              "    .dataframe tbody tr th:only-of-type {\n",
              "        vertical-align: middle;\n",
              "    }\n",
              "\n",
              "    .dataframe tbody tr th {\n",
              "        vertical-align: top;\n",
              "    }\n",
              "\n",
              "    .dataframe thead th {\n",
              "        text-align: right;\n",
              "    }\n",
              "</style>\n",
              "<table border=\"1\" class=\"dataframe\">\n",
              "  <thead>\n",
              "    <tr style=\"text-align: right;\">\n",
              "      <th></th>\n",
              "      <th>0_mean</th>\n",
              "      <th>0_std</th>\n",
              "      <th>0_slope</th>\n",
              "      <th>0_std_err</th>\n",
              "      <th>1_mean</th>\n",
              "      <th>1_std</th>\n",
              "      <th>1_slope</th>\n",
              "      <th>1_std_err</th>\n",
              "      <th>2_mean</th>\n",
              "      <th>2_std</th>\n",
              "      <th>...</th>\n",
              "      <th>4_mean</th>\n",
              "      <th>4_std</th>\n",
              "      <th>4_slope</th>\n",
              "      <th>4_std_err</th>\n",
              "      <th>5_mean</th>\n",
              "      <th>5_std</th>\n",
              "      <th>5_slope</th>\n",
              "      <th>5_std_err</th>\n",
              "      <th>decl</th>\n",
              "      <th>ddf</th>\n",
              "    </tr>\n",
              "    <tr>\n",
              "      <th>object_id</th>\n",
              "      <th></th>\n",
              "      <th></th>\n",
              "      <th></th>\n",
              "      <th></th>\n",
              "      <th></th>\n",
              "      <th></th>\n",
              "      <th></th>\n",
              "      <th></th>\n",
              "      <th></th>\n",
              "      <th></th>\n",
              "      <th></th>\n",
              "      <th></th>\n",
              "      <th></th>\n",
              "      <th></th>\n",
              "      <th></th>\n",
              "      <th></th>\n",
              "      <th></th>\n",
              "      <th></th>\n",
              "      <th></th>\n",
              "      <th></th>\n",
              "      <th></th>\n",
              "    </tr>\n",
              "  </thead>\n",
              "  <tbody>\n",
              "    <tr>\n",
              "      <th>615.0</th>\n",
              "      <td>-3.254554</td>\n",
              "      <td>83.275842</td>\n",
              "      <td>0.000528</td>\n",
              "      <td>0.000461</td>\n",
              "      <td>-385.699911</td>\n",
              "      <td>596.576924</td>\n",
              "      <td>0.000564</td>\n",
              "      <td>0.000419</td>\n",
              "      <td>-134.146566</td>\n",
              "      <td>451.180827</td>\n",
              "      <td>...</td>\n",
              "      <td>-55.954592</td>\n",
              "      <td>289.276965</td>\n",
              "      <td>0.001046</td>\n",
              "      <td>0.000402</td>\n",
              "      <td>-47.449847</td>\n",
              "      <td>292.182295</td>\n",
              "      <td>0.001012</td>\n",
              "      <td>0.000410</td>\n",
              "      <td>-61.943836</td>\n",
              "      <td>1.0</td>\n",
              "    </tr>\n",
              "    <tr>\n",
              "      <th>713.0</th>\n",
              "      <td>-2.720398</td>\n",
              "      <td>7.062516</td>\n",
              "      <td>-0.002880</td>\n",
              "      <td>0.000200</td>\n",
              "      <td>-1.019804</td>\n",
              "      <td>5.661101</td>\n",
              "      <td>-0.002824</td>\n",
              "      <td>0.000212</td>\n",
              "      <td>-0.794238</td>\n",
              "      <td>5.718981</td>\n",
              "      <td>...</td>\n",
              "      <td>-0.900262</td>\n",
              "      <td>6.349526</td>\n",
              "      <td>-0.002706</td>\n",
              "      <td>0.000239</td>\n",
              "      <td>-1.794175</td>\n",
              "      <td>7.030448</td>\n",
              "      <td>-0.001996</td>\n",
              "      <td>0.000345</td>\n",
              "      <td>-27.784405</td>\n",
              "      <td>1.0</td>\n",
              "    </tr>\n",
              "    <tr>\n",
              "      <th>730.0</th>\n",
              "      <td>-0.048080</td>\n",
              "      <td>1.816127</td>\n",
              "      <td>-0.000122</td>\n",
              "      <td>0.000379</td>\n",
              "      <td>0.141057</td>\n",
              "      <td>1.789767</td>\n",
              "      <td>0.000341</td>\n",
              "      <td>0.000474</td>\n",
              "      <td>2.400870</td>\n",
              "      <td>5.505767</td>\n",
              "      <td>...</td>\n",
              "      <td>4.308728</td>\n",
              "      <td>10.604821</td>\n",
              "      <td>0.001492</td>\n",
              "      <td>0.000426</td>\n",
              "      <td>4.539396</td>\n",
              "      <td>13.201397</td>\n",
              "      <td>0.001271</td>\n",
              "      <td>0.000440</td>\n",
              "      <td>-6.579593</td>\n",
              "      <td>1.0</td>\n",
              "    </tr>\n",
              "    <tr>\n",
              "      <th>745.0</th>\n",
              "      <td>1.797523</td>\n",
              "      <td>4.343961</td>\n",
              "      <td>-0.000705</td>\n",
              "      <td>0.000412</td>\n",
              "      <td>5.717394</td>\n",
              "      <td>25.731788</td>\n",
              "      <td>-0.000093</td>\n",
              "      <td>0.000439</td>\n",
              "      <td>9.711532</td>\n",
              "      <td>31.671373</td>\n",
              "      <td>...</td>\n",
              "      <td>13.134436</td>\n",
              "      <td>32.772464</td>\n",
              "      <td>-0.000109</td>\n",
              "      <td>0.000439</td>\n",
              "      <td>10.746138</td>\n",
              "      <td>25.822133</td>\n",
              "      <td>0.000003</td>\n",
              "      <td>0.000444</td>\n",
              "      <td>-45.586655</td>\n",
              "      <td>1.0</td>\n",
              "    </tr>\n",
              "    <tr>\n",
              "      <th>1124.0</th>\n",
              "      <td>0.660948</td>\n",
              "      <td>2.341279</td>\n",
              "      <td>0.001244</td>\n",
              "      <td>0.000438</td>\n",
              "      <td>4.634637</td>\n",
              "      <td>8.037329</td>\n",
              "      <td>0.001881</td>\n",
              "      <td>0.000343</td>\n",
              "      <td>10.243968</td>\n",
              "      <td>21.135263</td>\n",
              "      <td>...</td>\n",
              "      <td>9.906102</td>\n",
              "      <td>26.633303</td>\n",
              "      <td>0.001356</td>\n",
              "      <td>0.000385</td>\n",
              "      <td>6.896742</td>\n",
              "      <td>21.245772</td>\n",
              "      <td>0.001120</td>\n",
              "      <td>0.000405</td>\n",
              "      <td>-63.823658</td>\n",
              "      <td>1.0</td>\n",
              "    </tr>\n",
              "  </tbody>\n",
              "</table>\n",
              "<p>5 rows × 26 columns</p>\n",
              "</div>\n",
              "      <button class=\"colab-df-convert\" onclick=\"convertToInteractive('df-d6b0c3ff-9142-4a39-849a-bced095ddff4')\"\n",
              "              title=\"Convert this dataframe to an interactive table.\"\n",
              "              style=\"display:none;\">\n",
              "        \n",
              "  <svg xmlns=\"http://www.w3.org/2000/svg\" height=\"24px\"viewBox=\"0 0 24 24\"\n",
              "       width=\"24px\">\n",
              "    <path d=\"M0 0h24v24H0V0z\" fill=\"none\"/>\n",
              "    <path d=\"M18.56 5.44l.94 2.06.94-2.06 2.06-.94-2.06-.94-.94-2.06-.94 2.06-2.06.94zm-11 1L8.5 8.5l.94-2.06 2.06-.94-2.06-.94L8.5 2.5l-.94 2.06-2.06.94zm10 10l.94 2.06.94-2.06 2.06-.94-2.06-.94-.94-2.06-.94 2.06-2.06.94z\"/><path d=\"M17.41 7.96l-1.37-1.37c-.4-.4-.92-.59-1.43-.59-.52 0-1.04.2-1.43.59L10.3 9.45l-7.72 7.72c-.78.78-.78 2.05 0 2.83L4 21.41c.39.39.9.59 1.41.59.51 0 1.02-.2 1.41-.59l7.78-7.78 2.81-2.81c.8-.78.8-2.07 0-2.86zM5.41 20L4 18.59l7.72-7.72 1.47 1.35L5.41 20z\"/>\n",
              "  </svg>\n",
              "      </button>\n",
              "      \n",
              "  <style>\n",
              "    .colab-df-container {\n",
              "      display:flex;\n",
              "      flex-wrap:wrap;\n",
              "      gap: 12px;\n",
              "    }\n",
              "\n",
              "    .colab-df-convert {\n",
              "      background-color: #E8F0FE;\n",
              "      border: none;\n",
              "      border-radius: 50%;\n",
              "      cursor: pointer;\n",
              "      display: none;\n",
              "      fill: #1967D2;\n",
              "      height: 32px;\n",
              "      padding: 0 0 0 0;\n",
              "      width: 32px;\n",
              "    }\n",
              "\n",
              "    .colab-df-convert:hover {\n",
              "      background-color: #E2EBFA;\n",
              "      box-shadow: 0px 1px 2px rgba(60, 64, 67, 0.3), 0px 1px 3px 1px rgba(60, 64, 67, 0.15);\n",
              "      fill: #174EA6;\n",
              "    }\n",
              "\n",
              "    [theme=dark] .colab-df-convert {\n",
              "      background-color: #3B4455;\n",
              "      fill: #D2E3FC;\n",
              "    }\n",
              "\n",
              "    [theme=dark] .colab-df-convert:hover {\n",
              "      background-color: #434B5C;\n",
              "      box-shadow: 0px 1px 3px 1px rgba(0, 0, 0, 0.15);\n",
              "      filter: drop-shadow(0px 1px 2px rgba(0, 0, 0, 0.3));\n",
              "      fill: #FFFFFF;\n",
              "    }\n",
              "  </style>\n",
              "\n",
              "      <script>\n",
              "        const buttonEl =\n",
              "          document.querySelector('#df-d6b0c3ff-9142-4a39-849a-bced095ddff4 button.colab-df-convert');\n",
              "        buttonEl.style.display =\n",
              "          google.colab.kernel.accessAllowed ? 'block' : 'none';\n",
              "\n",
              "        async function convertToInteractive(key) {\n",
              "          const element = document.querySelector('#df-d6b0c3ff-9142-4a39-849a-bced095ddff4');\n",
              "          const dataTable =\n",
              "            await google.colab.kernel.invokeFunction('convertToInteractive',\n",
              "                                                     [key], {});\n",
              "          if (!dataTable) return;\n",
              "\n",
              "          const docLinkHtml = 'Like what you see? Visit the ' +\n",
              "            '<a target=\"_blank\" href=https://colab.research.google.com/notebooks/data_table.ipynb>data table notebook</a>'\n",
              "            + ' to learn more about interactive tables.';\n",
              "          element.innerHTML = '';\n",
              "          dataTable['output_type'] = 'display_data';\n",
              "          await google.colab.output.renderOutput(dataTable, element);\n",
              "          const docLink = document.createElement('div');\n",
              "          docLink.innerHTML = docLinkHtml;\n",
              "          element.appendChild(docLink);\n",
              "        }\n",
              "      </script>\n",
              "    </div>\n",
              "  </div>\n",
              "  "
            ]
          },
          "metadata": {},
          "execution_count": 31
        }
      ]
    },
    {
      "cell_type": "code",
      "source": [
        "print(\"My feature space is {} features (columns)\".format(features.shape[1]))"
      ],
      "metadata": {
        "id": "pKx5hqk__PqK",
        "outputId": "0b0827ea-a0de-49df-d601-40f15bc7c7f0",
        "colab": {
          "base_uri": "https://localhost:8080/"
        }
      },
      "execution_count": 32,
      "outputs": [
        {
          "output_type": "stream",
          "name": "stdout",
          "text": [
            "My feature space is 26 features (columns)\n"
          ]
        }
      ]
    },
    {
      "cell_type": "markdown",
      "source": [
        "My features data has shape of 7848 x 26, where 7848 is the number of object. 27 features are consists of 24 features are mean, std, slop, std_err of 6 passband and 2 features of decl and ddf"
      ],
      "metadata": {
        "id": "GhKOTp_5YDcm"
      }
    },
    {
      "cell_type": "markdown",
      "source": [
        "As noticed earlier, there are some outlier in data, so for each feature histogram I have to set min-max range to avoid outlier"
      ],
      "metadata": {
        "id": "nFlCA-2NYIDr"
      }
    },
    {
      "cell_type": "code",
      "source": [
        "feature_name = 'mean'\n",
        "range_hist = (-50, 100)\n",
        "fig = plt.figure(figsize = (30, 5))\n",
        "axes = []\n",
        "for i_plot in range(6):\n",
        "  column = \"{}_{}\".format(i_plot, feature_name)\n",
        "  axes.append(fig.add_subplot(1, 6, i_plot+1))\n",
        "  axes[-1].hist(features[column].to_numpy(), bins = 10, range = range_hist)\n",
        "  axes[-1].set_title(column)\n",
        "  axes[-1].set_ylabel('frequency')"
      ],
      "metadata": {
        "id": "5pVb2rFLVcvm",
        "outputId": "eb4385f7-f184-477d-ce74-e75dca55a1bd",
        "colab": {
          "base_uri": "https://localhost:8080/",
          "height": 335
        }
      },
      "execution_count": 39,
      "outputs": [
        {
          "output_type": "display_data",
          "data": {
            "text/plain": [
              "<Figure size 2160x360 with 6 Axes>"
            ],
            "image/png": "[encoded data removed]"
          },
          "metadata": {
            "needs_background": "light"
          }
        }
      ]
    },
    {
      "cell_type": "markdown",
      "source": [
        "The histogram of mean feature accross 6 passband"
      ],
      "metadata": {
        "id": "7dRWe6u7W-2v"
      }
    },
    {
      "cell_type": "code",
      "source": [
        "feature_name = 'std'\n",
        "range_hist = (0, 80)\n",
        "fig = plt.figure(figsize = (30, 5))\n",
        "axes = []\n",
        "for i_plot in range(6):\n",
        "  column = \"{}_{}\".format(i_plot, feature_name)\n",
        "  axes.append(fig.add_subplot(1, 6, i_plot+1))\n",
        "  axes[-1].hist(features[column].to_numpy(), bins = 10, range = range_hist)\n",
        "  axes[-1].set_title(column)\n",
        "  axes[-1].set_ylabel('frequency')"
      ],
      "metadata": {
        "id": "PGgvphRSXEPw",
        "outputId": "3da095bc-7ce5-4c34-e37f-7a6a3a34749f",
        "colab": {
          "base_uri": "https://localhost:8080/",
          "height": 335
        }
      },
      "execution_count": 44,
      "outputs": [
        {
          "output_type": "display_data",
          "data": {
            "text/plain": [
              "<Figure size 2160x360 with 6 Axes>"
            ],
            "image/png": "[encoded data removed]"
          },
          "metadata": {
            "needs_background": "light"
          }
        }
      ]
    },
    {
      "cell_type": "markdown",
      "source": [
        "The histogram of std feature across 6 passband"
      ],
      "metadata": {
        "id": "iJoUJb3DXRcb"
      }
    },
    {
      "cell_type": "code",
      "source": [
        "feature_name = 'slope'\n",
        "range_hist = (-0.003, 0.003)\n",
        "fig = plt.figure(figsize = (30, 5))\n",
        "axes = []\n",
        "for i_plot in range(6):\n",
        "  column = \"{}_{}\".format(i_plot, feature_name)\n",
        "  axes.append(fig.add_subplot(1, 6, i_plot+1))\n",
        "  axes[-1].hist(features[column].to_numpy(), bins = 10, range = range_hist)\n",
        "  axes[-1].set_title(column)\n",
        "  axes[-1].set_ylabel('frequency')"
      ],
      "metadata": {
        "id": "9TCgv1wvXVDv",
        "outputId": "9b2a14fb-39ca-4b05-847e-48f6906521b7",
        "colab": {
          "base_uri": "https://localhost:8080/",
          "height": 335
        }
      },
      "execution_count": 47,
      "outputs": [
        {
          "output_type": "display_data",
          "data": {
            "text/plain": [
              "<Figure size 2160x360 with 6 Axes>"
            ],
            "image/png": "[encoded data removed]"
          },
          "metadata": {
            "needs_background": "light"
          }
        }
      ]
    },
    {
      "cell_type": "markdown",
      "source": [
        "The histogram of slope feature across 6 passband"
      ],
      "metadata": {
        "id": "grTTM3mfXzMl"
      }
    },
    {
      "cell_type": "code",
      "source": [
        "feature_name = 'std_err'\n",
        "range_hist = (0, 0.002)\n",
        "fig = plt.figure(figsize = (30, 5))\n",
        "axes = []\n",
        "for i_plot in range(6):\n",
        "  column = \"{}_{}\".format(i_plot, feature_name)\n",
        "  axes.append(fig.add_subplot(1, 6, i_plot+1))\n",
        "  axes[-1].hist(features[column].to_numpy(), bins = 10, range = range_hist)\n",
        "  axes[-1].set_title(column)\n",
        "  axes[-1].set_ylabel('frequency')"
      ],
      "metadata": {
        "id": "Gr04VlegXh6K",
        "outputId": "484e21a8-854a-40f4-f1ce-b44b94dfb0ad",
        "colab": {
          "base_uri": "https://localhost:8080/",
          "height": 335
        }
      },
      "execution_count": 51,
      "outputs": [
        {
          "output_type": "display_data",
          "data": {
            "text/plain": [
              "<Figure size 2160x360 with 6 Axes>"
            ],
            "image/png": "[encoded data removed]"
          },
          "metadata": {
            "needs_background": "light"
          }
        }
      ]
    },
    {
      "cell_type": "markdown",
      "source": [
        "The histogram of std_err feature across 6 passband. It seems like the passband 4, 5 are linear"
      ],
      "metadata": {
        "id": "4A0l3lRQX09U"
      }
    },
    {
      "cell_type": "code",
      "source": [
        "feature_name = ['decl', 'ddf']\n",
        "range_hist = [(-65, 10), (0,1)]\n",
        "fig = plt.figure(figsize = (10, 5))\n",
        "axes = []\n",
        "for i_plot in range(2):\n",
        "  column = feature_name[i_plot]\n",
        "  axes.append(fig.add_subplot(1, 2, i_plot+1))\n",
        "  axes[-1].hist(features[column].to_numpy(), bins = 10, range = range_hist[i_plot])\n",
        "  axes[-1].set_title(column)\n",
        "  axes[-1].set_ylabel('frequency')"
      ],
      "metadata": {
        "id": "C_LL3TDjX9lu",
        "outputId": "2a527fb5-08d3-463d-a936-977f4f5c0630",
        "colab": {
          "base_uri": "https://localhost:8080/",
          "height": 335
        }
      },
      "execution_count": 65,
      "outputs": [
        {
          "output_type": "display_data",
          "data": {
            "text/plain": [
              "<Figure size 720x360 with 2 Axes>"
            ],
            "image/png": "[encoded data removed]"
          },
          "metadata": {
            "needs_background": "light"
          }
        }
      ]
    },
    {
      "cell_type": "markdown",
      "source": [
        "histograms of decl and ddf features"
      ],
      "metadata": {
        "id": "--fcmvdyZAPe"
      }
    },
    {
      "cell_type": "markdown",
      "metadata": {
        "id": "ASPTCZn3lVYl"
      },
      "source": [
        "Even with the same standard deviation two distribution can be very different. \n",
        "Look at the this article for a great demonstation of that! https://heap.io/blog/data-stories/anscombes-quartet-and-why-summary-statistics-dont-tell-the-whole-story\n",
        "\n",
        "I extracted  the max and min, but also their uncertainties because outlier points may be measurement issues, in which case the uncertainty may be large : see the plot you made for 84716!\n",
        "\n",
        "If a distribution has spikes the standard deviation will be larger even if the other datapoints are exactly the same. Save the mean and the max of both original distribution and the standardized one (standardized = mean subtracted and divided by the standard deviation). \n"
      ]
    },
    {
      "cell_type": "markdown",
      "metadata": {
        "id": "CdlGzTnHlVYm"
      },
      "source": [
        "Standardize the lcvs and extract some features from the raw lightcurve - \n"
      ]
    },
    {
      "cell_type": "markdown",
      "metadata": {
        "id": "dIHttYe69Pkl"
      },
      "source": [
        "You can do it use  the preprocessing.scale function and groupby, which group by object and band. It does its job, but it is slow"
      ]
    },
    {
      "cell_type": "markdown",
      "metadata": {
        "id": "SaOg1-MZQo11"
      },
      "source": [
        "NOTE: when you merge the metadata features you are going to have to do some gymnastic with the indices: this is because the data has 2 indices columns: the object id and the bandpass id, while the metadata has only 1 index: the object id. \n",
        "\n",
        "You can use the function unstuck - here is an example line of code of what worked for me **but** it kind of depends on how you organized your dataframe so this is not guaranteed to work!"
      ]
    },
    {
      "cell_type": "markdown",
      "metadata": {
        "id": "EIHmx_fdlVYq"
      },
      "source": [
        "# TASK III : Gaussian Processes"
      ]
    },
    {
      "cell_type": "markdown",
      "source": [
        "Take the time series and fit them with GPs. \n",
        "- use the george package goerge (see class demo https://github.com/fedhere/MLTSA22_FBianco/blob/main/Lab5GP/GP_examples.ipynb)\n",
        "- make sure you use the standardized time series\n",
        "- make sure you process the uncertainty as well as the data in the standardization!\n",
        "- choose an appropriate kernel (e.g. the composite one we use in class that enables periodicity as well as stockastic variations)\n",
        "- take a subset of the time series, ~10, making sure that they are of different types\n",
        "- fit the GP kernerl to each time series band by band\n",
        "- collect the best fit parameters and describe their variance - can all the time series be fit reasonably with the same kernel? how would you initialize the fit for the whole ensamble?\n",
        "\n"
      ],
      "metadata": {
        "id": "HmvhfncYvSjD"
      }
    },
    {
      "cell_type": "markdown",
      "source": [
        "# CHALLENGE (Extra Credit): fit the 2D time series: \n",
        "- create a 2D array for each of the ~10 time series you used earlier: 1 dimension is time the other is wavelength (the bandpass)\n",
        "- fit a 2D kernel to the time series. \n",
        "- show the fits with their uncertainties marginalized along one feature at a time: the fit along the time axis for all 6 bands and the fit along the wavelength axis for a subset of the datapoints.\n",
        "- (try and make a surface plot  that conveys the relevant info effectively, I find it difficult)"
      ],
      "metadata": {
        "id": "RvSu8TAmYjfp"
      }
    },
    {
      "cell_type": "code",
      "source": [
        ""
      ],
      "metadata": {
        "id": "6grL0qluXaI_"
      },
      "execution_count": null,
      "outputs": []
    }
  ]
}